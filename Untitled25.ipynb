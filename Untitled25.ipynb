{
  "nbformat": 4,
  "nbformat_minor": 0,
  "metadata": {
    "colab": {
      "provenance": [],
      "gpuType": "T4"
    },
    "kernelspec": {
      "name": "python3",
      "display_name": "Python 3"
    },
    "language_info": {
      "name": "python"
    },
    "accelerator": "GPU"
  },
  "cells": [
    {
      "cell_type": "code",
      "execution_count": 2,
      "metadata": {
        "colab": {
          "base_uri": "https://localhost:8080/"
        },
        "id": "XVKYcmrOMxo-",
        "outputId": "2da0e5fa-3301-433f-b860-9a5f9d6ea807"
      },
      "outputs": [
        {
          "output_type": "stream",
          "name": "stdout",
          "text": [
            "Cloning into 'GroundingDINO'...\n",
            "remote: Enumerating objects: 463, done.\u001b[K\n",
            "remote: Counting objects: 100% (240/240), done.\u001b[K\n",
            "remote: Compressing objects: 100% (105/105), done.\u001b[K\n",
            "remote: Total 463 (delta 175), reused 135 (delta 135), pack-reused 223 (from 1)\u001b[K\n",
            "Receiving objects: 100% (463/463), 12.87 MiB | 15.47 MiB/s, done.\n",
            "Resolving deltas: 100% (241/241), done.\n"
          ]
        }
      ],
      "source": [
        "!git clone https://github.com/IDEA-Research/GroundingDINO.git"
      ]
    },
    {
      "cell_type": "code",
      "source": [
        "cd GroundingDINO/"
      ],
      "metadata": {
        "colab": {
          "base_uri": "https://localhost:8080/"
        },
        "id": "MBfsvm7kMztY",
        "outputId": "db91d1b8-f4f8-4e55-8508-985b138e86fe"
      },
      "execution_count": 3,
      "outputs": [
        {
          "output_type": "stream",
          "name": "stdout",
          "text": [
            "/content/GroundingDINO\n"
          ]
        }
      ]
    },
    {
      "cell_type": "code",
      "source": [
        "pip install -e ."
      ],
      "metadata": {
        "colab": {
          "base_uri": "https://localhost:8080/"
        },
        "id": "ySlCsOvrM9Dy",
        "outputId": "5b69a441-31fd-4fbe-9c07-3f055b726ed6"
      },
      "execution_count": 4,
      "outputs": [
        {
          "output_type": "stream",
          "name": "stdout",
          "text": [
            "Obtaining file:///content/GroundingDINO\n",
            "  Preparing metadata (setup.py) ... \u001b[?25l\u001b[?25hdone\n",
            "Requirement already satisfied: torch in /usr/local/lib/python3.11/dist-packages (from groundingdino==0.1.0) (2.5.1+cu121)\n",
            "Requirement already satisfied: torchvision in /usr/local/lib/python3.11/dist-packages (from groundingdino==0.1.0) (0.20.1+cu121)\n",
            "Requirement already satisfied: transformers in /usr/local/lib/python3.11/dist-packages (from groundingdino==0.1.0) (4.47.1)\n",
            "Collecting addict (from groundingdino==0.1.0)\n",
            "  Downloading addict-2.4.0-py3-none-any.whl.metadata (1.0 kB)\n",
            "Collecting yapf (from groundingdino==0.1.0)\n",
            "  Downloading yapf-0.43.0-py3-none-any.whl.metadata (46 kB)\n",
            "\u001b[2K     \u001b[90m━━━━━━━━━━━━━━━━━━━━━━━━━━━━━━━━━━━━━━━━\u001b[0m \u001b[32m46.8/46.8 kB\u001b[0m \u001b[31m3.2 MB/s\u001b[0m eta \u001b[36m0:00:00\u001b[0m\n",
            "\u001b[?25hRequirement already satisfied: timm in /usr/local/lib/python3.11/dist-packages (from groundingdino==0.1.0) (1.0.13)\n",
            "Requirement already satisfied: numpy in /usr/local/lib/python3.11/dist-packages (from groundingdino==0.1.0) (1.26.4)\n",
            "Requirement already satisfied: opencv-python in /usr/local/lib/python3.11/dist-packages (from groundingdino==0.1.0) (4.10.0.84)\n",
            "Collecting supervision>=0.22.0 (from groundingdino==0.1.0)\n",
            "  Downloading supervision-0.25.1-py3-none-any.whl.metadata (14 kB)\n",
            "Requirement already satisfied: pycocotools in /usr/local/lib/python3.11/dist-packages (from groundingdino==0.1.0) (2.0.8)\n",
            "Requirement already satisfied: contourpy>=1.0.7 in /usr/local/lib/python3.11/dist-packages (from supervision>=0.22.0->groundingdino==0.1.0) (1.3.1)\n",
            "Requirement already satisfied: defusedxml<0.8.0,>=0.7.1 in /usr/local/lib/python3.11/dist-packages (from supervision>=0.22.0->groundingdino==0.1.0) (0.7.1)\n",
            "Requirement already satisfied: matplotlib>=3.6.0 in /usr/local/lib/python3.11/dist-packages (from supervision>=0.22.0->groundingdino==0.1.0) (3.10.0)\n",
            "Requirement already satisfied: pillow>=9.4 in /usr/local/lib/python3.11/dist-packages (from supervision>=0.22.0->groundingdino==0.1.0) (11.1.0)\n",
            "Requirement already satisfied: pyyaml>=5.3 in /usr/local/lib/python3.11/dist-packages (from supervision>=0.22.0->groundingdino==0.1.0) (6.0.2)\n",
            "Requirement already satisfied: requests>=2.26.0 in /usr/local/lib/python3.11/dist-packages (from supervision>=0.22.0->groundingdino==0.1.0) (2.32.3)\n",
            "Requirement already satisfied: scipy<2.0.0,>=1.10.0 in /usr/local/lib/python3.11/dist-packages (from supervision>=0.22.0->groundingdino==0.1.0) (1.13.1)\n",
            "Requirement already satisfied: tqdm>=4.62.3 in /usr/local/lib/python3.11/dist-packages (from supervision>=0.22.0->groundingdino==0.1.0) (4.67.1)\n",
            "Requirement already satisfied: huggingface_hub in /usr/local/lib/python3.11/dist-packages (from timm->groundingdino==0.1.0) (0.27.1)\n",
            "Requirement already satisfied: safetensors in /usr/local/lib/python3.11/dist-packages (from timm->groundingdino==0.1.0) (0.5.2)\n",
            "Requirement already satisfied: filelock in /usr/local/lib/python3.11/dist-packages (from torch->groundingdino==0.1.0) (3.16.1)\n",
            "Requirement already satisfied: typing-extensions>=4.8.0 in /usr/local/lib/python3.11/dist-packages (from torch->groundingdino==0.1.0) (4.12.2)\n",
            "Requirement already satisfied: networkx in /usr/local/lib/python3.11/dist-packages (from torch->groundingdino==0.1.0) (3.4.2)\n",
            "Requirement already satisfied: jinja2 in /usr/local/lib/python3.11/dist-packages (from torch->groundingdino==0.1.0) (3.1.5)\n",
            "Requirement already satisfied: fsspec in /usr/local/lib/python3.11/dist-packages (from torch->groundingdino==0.1.0) (2024.10.0)\n",
            "Requirement already satisfied: nvidia-cuda-nvrtc-cu12==12.1.105 in /usr/local/lib/python3.11/dist-packages (from torch->groundingdino==0.1.0) (12.1.105)\n",
            "Requirement already satisfied: nvidia-cuda-runtime-cu12==12.1.105 in /usr/local/lib/python3.11/dist-packages (from torch->groundingdino==0.1.0) (12.1.105)\n",
            "Requirement already satisfied: nvidia-cuda-cupti-cu12==12.1.105 in /usr/local/lib/python3.11/dist-packages (from torch->groundingdino==0.1.0) (12.1.105)\n",
            "Requirement already satisfied: nvidia-cudnn-cu12==9.1.0.70 in /usr/local/lib/python3.11/dist-packages (from torch->groundingdino==0.1.0) (9.1.0.70)\n",
            "Requirement already satisfied: nvidia-cublas-cu12==12.1.3.1 in /usr/local/lib/python3.11/dist-packages (from torch->groundingdino==0.1.0) (12.1.3.1)\n",
            "Requirement already satisfied: nvidia-cufft-cu12==11.0.2.54 in /usr/local/lib/python3.11/dist-packages (from torch->groundingdino==0.1.0) (11.0.2.54)\n",
            "Requirement already satisfied: nvidia-curand-cu12==10.3.2.106 in /usr/local/lib/python3.11/dist-packages (from torch->groundingdino==0.1.0) (10.3.2.106)\n",
            "Requirement already satisfied: nvidia-cusolver-cu12==11.4.5.107 in /usr/local/lib/python3.11/dist-packages (from torch->groundingdino==0.1.0) (11.4.5.107)\n",
            "Requirement already satisfied: nvidia-cusparse-cu12==12.1.0.106 in /usr/local/lib/python3.11/dist-packages (from torch->groundingdino==0.1.0) (12.1.0.106)\n",
            "Requirement already satisfied: nvidia-nccl-cu12==2.21.5 in /usr/local/lib/python3.11/dist-packages (from torch->groundingdino==0.1.0) (2.21.5)\n",
            "Requirement already satisfied: nvidia-nvtx-cu12==12.1.105 in /usr/local/lib/python3.11/dist-packages (from torch->groundingdino==0.1.0) (12.1.105)\n",
            "Requirement already satisfied: triton==3.1.0 in /usr/local/lib/python3.11/dist-packages (from torch->groundingdino==0.1.0) (3.1.0)\n",
            "Requirement already satisfied: sympy==1.13.1 in /usr/local/lib/python3.11/dist-packages (from torch->groundingdino==0.1.0) (1.13.1)\n",
            "Requirement already satisfied: nvidia-nvjitlink-cu12 in /usr/local/lib/python3.11/dist-packages (from nvidia-cusolver-cu12==11.4.5.107->torch->groundingdino==0.1.0) (12.6.85)\n",
            "Requirement already satisfied: mpmath<1.4,>=1.1.0 in /usr/local/lib/python3.11/dist-packages (from sympy==1.13.1->torch->groundingdino==0.1.0) (1.3.0)\n",
            "Requirement already satisfied: packaging>=20.0 in /usr/local/lib/python3.11/dist-packages (from transformers->groundingdino==0.1.0) (24.2)\n",
            "Requirement already satisfied: regex!=2019.12.17 in /usr/local/lib/python3.11/dist-packages (from transformers->groundingdino==0.1.0) (2024.11.6)\n",
            "Requirement already satisfied: tokenizers<0.22,>=0.21 in /usr/local/lib/python3.11/dist-packages (from transformers->groundingdino==0.1.0) (0.21.0)\n",
            "Requirement already satisfied: platformdirs>=3.5.1 in /usr/local/lib/python3.11/dist-packages (from yapf->groundingdino==0.1.0) (4.3.6)\n",
            "Requirement already satisfied: cycler>=0.10 in /usr/local/lib/python3.11/dist-packages (from matplotlib>=3.6.0->supervision>=0.22.0->groundingdino==0.1.0) (0.12.1)\n",
            "Requirement already satisfied: fonttools>=4.22.0 in /usr/local/lib/python3.11/dist-packages (from matplotlib>=3.6.0->supervision>=0.22.0->groundingdino==0.1.0) (4.55.3)\n",
            "Requirement already satisfied: kiwisolver>=1.3.1 in /usr/local/lib/python3.11/dist-packages (from matplotlib>=3.6.0->supervision>=0.22.0->groundingdino==0.1.0) (1.4.8)\n",
            "Requirement already satisfied: pyparsing>=2.3.1 in /usr/local/lib/python3.11/dist-packages (from matplotlib>=3.6.0->supervision>=0.22.0->groundingdino==0.1.0) (3.2.1)\n",
            "Requirement already satisfied: python-dateutil>=2.7 in /usr/local/lib/python3.11/dist-packages (from matplotlib>=3.6.0->supervision>=0.22.0->groundingdino==0.1.0) (2.8.2)\n",
            "Requirement already satisfied: charset-normalizer<4,>=2 in /usr/local/lib/python3.11/dist-packages (from requests>=2.26.0->supervision>=0.22.0->groundingdino==0.1.0) (3.4.1)\n",
            "Requirement already satisfied: idna<4,>=2.5 in /usr/local/lib/python3.11/dist-packages (from requests>=2.26.0->supervision>=0.22.0->groundingdino==0.1.0) (3.10)\n",
            "Requirement already satisfied: urllib3<3,>=1.21.1 in /usr/local/lib/python3.11/dist-packages (from requests>=2.26.0->supervision>=0.22.0->groundingdino==0.1.0) (2.3.0)\n",
            "Requirement already satisfied: certifi>=2017.4.17 in /usr/local/lib/python3.11/dist-packages (from requests>=2.26.0->supervision>=0.22.0->groundingdino==0.1.0) (2024.12.14)\n",
            "Requirement already satisfied: MarkupSafe>=2.0 in /usr/local/lib/python3.11/dist-packages (from jinja2->torch->groundingdino==0.1.0) (3.0.2)\n",
            "Requirement already satisfied: six>=1.5 in /usr/local/lib/python3.11/dist-packages (from python-dateutil>=2.7->matplotlib>=3.6.0->supervision>=0.22.0->groundingdino==0.1.0) (1.17.0)\n",
            "Downloading supervision-0.25.1-py3-none-any.whl (181 kB)\n",
            "\u001b[2K   \u001b[90m━━━━━━━━━━━━━━━━━━━━━━━━━━━━━━━━━━━━━━━━\u001b[0m \u001b[32m181.5/181.5 kB\u001b[0m \u001b[31m1.4 MB/s\u001b[0m eta \u001b[36m0:00:00\u001b[0m\n",
            "\u001b[?25hDownloading addict-2.4.0-py3-none-any.whl (3.8 kB)\n",
            "Downloading yapf-0.43.0-py3-none-any.whl (256 kB)\n",
            "\u001b[2K   \u001b[90m━━━━━━━━━━━━━━━━━━━━━━━━━━━━━━━━━━━━━━━━\u001b[0m \u001b[32m256.2/256.2 kB\u001b[0m \u001b[31m19.7 MB/s\u001b[0m eta \u001b[36m0:00:00\u001b[0m\n",
            "\u001b[?25hInstalling collected packages: addict, yapf, supervision, groundingdino\n",
            "  Running setup.py develop for groundingdino\n",
            "Successfully installed addict-2.4.0 groundingdino-0.1.0 supervision-0.25.1 yapf-0.43.0\n"
          ]
        }
      ]
    },
    {
      "cell_type": "code",
      "source": [
        "mkdir weights"
      ],
      "metadata": {
        "id": "Tq6ZfCECM9QI"
      },
      "execution_count": 5,
      "outputs": []
    },
    {
      "cell_type": "code",
      "source": [
        "cd weights"
      ],
      "metadata": {
        "colab": {
          "base_uri": "https://localhost:8080/"
        },
        "id": "PEBNuuDTNB7m",
        "outputId": "5a4a9752-9eaa-433b-d247-7cbbfd08edaf"
      },
      "execution_count": 6,
      "outputs": [
        {
          "output_type": "stream",
          "name": "stdout",
          "text": [
            "/content/GroundingDINO/weights\n"
          ]
        }
      ]
    },
    {
      "cell_type": "code",
      "source": [
        "!wget -q https://github.com/IDEA-Research/GroundingDINO/releases/download/v0.1.0-alpha/groundingdino_swint_ogc.pth\n"
      ],
      "metadata": {
        "id": "cxt-SZshNDcR"
      },
      "execution_count": 7,
      "outputs": []
    },
    {
      "cell_type": "code",
      "source": [
        "cd .."
      ],
      "metadata": {
        "colab": {
          "base_uri": "https://localhost:8080/"
        },
        "id": "POFZLgTyNFw4",
        "outputId": "fd1e8cc3-dbff-41ce-d312-0664dee94d47"
      },
      "execution_count": 8,
      "outputs": [
        {
          "output_type": "stream",
          "name": "stdout",
          "text": [
            "/content/GroundingDINO\n"
          ]
        }
      ]
    },
    {
      "cell_type": "code",
      "source": [
        "! pip install diffusers transformers accelerate scipy safetensors"
      ],
      "metadata": {
        "colab": {
          "base_uri": "https://localhost:8080/"
        },
        "id": "4D9vYgM7NGMj",
        "outputId": "7ac2480d-d6dc-4f79-b5fe-a00bf1b9078a"
      },
      "execution_count": 9,
      "outputs": [
        {
          "output_type": "stream",
          "name": "stdout",
          "text": [
            "Requirement already satisfied: diffusers in /usr/local/lib/python3.11/dist-packages (0.32.1)\n",
            "Requirement already satisfied: transformers in /usr/local/lib/python3.11/dist-packages (4.47.1)\n",
            "Requirement already satisfied: accelerate in /usr/local/lib/python3.11/dist-packages (1.2.1)\n",
            "Requirement already satisfied: scipy in /usr/local/lib/python3.11/dist-packages (1.13.1)\n",
            "Requirement already satisfied: safetensors in /usr/local/lib/python3.11/dist-packages (0.5.2)\n",
            "Requirement already satisfied: importlib-metadata in /usr/local/lib/python3.11/dist-packages (from diffusers) (8.5.0)\n",
            "Requirement already satisfied: filelock in /usr/local/lib/python3.11/dist-packages (from diffusers) (3.16.1)\n",
            "Requirement already satisfied: huggingface-hub>=0.23.2 in /usr/local/lib/python3.11/dist-packages (from diffusers) (0.27.1)\n",
            "Requirement already satisfied: numpy in /usr/local/lib/python3.11/dist-packages (from diffusers) (1.26.4)\n",
            "Requirement already satisfied: regex!=2019.12.17 in /usr/local/lib/python3.11/dist-packages (from diffusers) (2024.11.6)\n",
            "Requirement already satisfied: requests in /usr/local/lib/python3.11/dist-packages (from diffusers) (2.32.3)\n",
            "Requirement already satisfied: Pillow in /usr/local/lib/python3.11/dist-packages (from diffusers) (11.1.0)\n",
            "Requirement already satisfied: packaging>=20.0 in /usr/local/lib/python3.11/dist-packages (from transformers) (24.2)\n",
            "Requirement already satisfied: pyyaml>=5.1 in /usr/local/lib/python3.11/dist-packages (from transformers) (6.0.2)\n",
            "Requirement already satisfied: tokenizers<0.22,>=0.21 in /usr/local/lib/python3.11/dist-packages (from transformers) (0.21.0)\n",
            "Requirement already satisfied: tqdm>=4.27 in /usr/local/lib/python3.11/dist-packages (from transformers) (4.67.1)\n",
            "Requirement already satisfied: psutil in /usr/local/lib/python3.11/dist-packages (from accelerate) (5.9.5)\n",
            "Requirement already satisfied: torch>=1.10.0 in /usr/local/lib/python3.11/dist-packages (from accelerate) (2.5.1+cu121)\n",
            "Requirement already satisfied: fsspec>=2023.5.0 in /usr/local/lib/python3.11/dist-packages (from huggingface-hub>=0.23.2->diffusers) (2024.10.0)\n",
            "Requirement already satisfied: typing-extensions>=3.7.4.3 in /usr/local/lib/python3.11/dist-packages (from huggingface-hub>=0.23.2->diffusers) (4.12.2)\n",
            "Requirement already satisfied: networkx in /usr/local/lib/python3.11/dist-packages (from torch>=1.10.0->accelerate) (3.4.2)\n",
            "Requirement already satisfied: jinja2 in /usr/local/lib/python3.11/dist-packages (from torch>=1.10.0->accelerate) (3.1.5)\n",
            "Requirement already satisfied: nvidia-cuda-nvrtc-cu12==12.1.105 in /usr/local/lib/python3.11/dist-packages (from torch>=1.10.0->accelerate) (12.1.105)\n",
            "Requirement already satisfied: nvidia-cuda-runtime-cu12==12.1.105 in /usr/local/lib/python3.11/dist-packages (from torch>=1.10.0->accelerate) (12.1.105)\n",
            "Requirement already satisfied: nvidia-cuda-cupti-cu12==12.1.105 in /usr/local/lib/python3.11/dist-packages (from torch>=1.10.0->accelerate) (12.1.105)\n",
            "Requirement already satisfied: nvidia-cudnn-cu12==9.1.0.70 in /usr/local/lib/python3.11/dist-packages (from torch>=1.10.0->accelerate) (9.1.0.70)\n",
            "Requirement already satisfied: nvidia-cublas-cu12==12.1.3.1 in /usr/local/lib/python3.11/dist-packages (from torch>=1.10.0->accelerate) (12.1.3.1)\n",
            "Requirement already satisfied: nvidia-cufft-cu12==11.0.2.54 in /usr/local/lib/python3.11/dist-packages (from torch>=1.10.0->accelerate) (11.0.2.54)\n",
            "Requirement already satisfied: nvidia-curand-cu12==10.3.2.106 in /usr/local/lib/python3.11/dist-packages (from torch>=1.10.0->accelerate) (10.3.2.106)\n",
            "Requirement already satisfied: nvidia-cusolver-cu12==11.4.5.107 in /usr/local/lib/python3.11/dist-packages (from torch>=1.10.0->accelerate) (11.4.5.107)\n",
            "Requirement already satisfied: nvidia-cusparse-cu12==12.1.0.106 in /usr/local/lib/python3.11/dist-packages (from torch>=1.10.0->accelerate) (12.1.0.106)\n",
            "Requirement already satisfied: nvidia-nccl-cu12==2.21.5 in /usr/local/lib/python3.11/dist-packages (from torch>=1.10.0->accelerate) (2.21.5)\n",
            "Requirement already satisfied: nvidia-nvtx-cu12==12.1.105 in /usr/local/lib/python3.11/dist-packages (from torch>=1.10.0->accelerate) (12.1.105)\n",
            "Requirement already satisfied: triton==3.1.0 in /usr/local/lib/python3.11/dist-packages (from torch>=1.10.0->accelerate) (3.1.0)\n",
            "Requirement already satisfied: sympy==1.13.1 in /usr/local/lib/python3.11/dist-packages (from torch>=1.10.0->accelerate) (1.13.1)\n",
            "Requirement already satisfied: nvidia-nvjitlink-cu12 in /usr/local/lib/python3.11/dist-packages (from nvidia-cusolver-cu12==11.4.5.107->torch>=1.10.0->accelerate) (12.6.85)\n",
            "Requirement already satisfied: mpmath<1.4,>=1.1.0 in /usr/local/lib/python3.11/dist-packages (from sympy==1.13.1->torch>=1.10.0->accelerate) (1.3.0)\n",
            "Requirement already satisfied: zipp>=3.20 in /usr/local/lib/python3.11/dist-packages (from importlib-metadata->diffusers) (3.21.0)\n",
            "Requirement already satisfied: charset-normalizer<4,>=2 in /usr/local/lib/python3.11/dist-packages (from requests->diffusers) (3.4.1)\n",
            "Requirement already satisfied: idna<4,>=2.5 in /usr/local/lib/python3.11/dist-packages (from requests->diffusers) (3.10)\n",
            "Requirement already satisfied: urllib3<3,>=1.21.1 in /usr/local/lib/python3.11/dist-packages (from requests->diffusers) (2.3.0)\n",
            "Requirement already satisfied: certifi>=2017.4.17 in /usr/local/lib/python3.11/dist-packages (from requests->diffusers) (2024.12.14)\n",
            "Requirement already satisfied: MarkupSafe>=2.0 in /usr/local/lib/python3.11/dist-packages (from jinja2->torch>=1.10.0->accelerate) (3.0.2)\n"
          ]
        }
      ]
    },
    {
      "cell_type": "code",
      "source": [
        "!pip install pillow\n"
      ],
      "metadata": {
        "colab": {
          "base_uri": "https://localhost:8080/"
        },
        "id": "kjJ1cdk7NHtq",
        "outputId": "755ed2b5-cf69-46e0-b1b8-cee3475a964b"
      },
      "execution_count": 10,
      "outputs": [
        {
          "output_type": "stream",
          "name": "stdout",
          "text": [
            "Requirement already satisfied: pillow in /usr/local/lib/python3.11/dist-packages (11.1.0)\n"
          ]
        }
      ]
    },
    {
      "cell_type": "code",
      "source": [
        "from PIL import Image, ImageDraw, ImageFont\n",
        "\n",
        "# Load the base image (the main image)\n",
        "base_image = Image.open(\"/content/drive/MyDrive/inputimgs/scene_1_normal.png\")\n",
        "\n",
        "# Load the overlay image\n",
        "overlay_image = Image.open(\"/content/drive/MyDrive/callout_imgs/downright.png\")\n",
        "\n",
        "# Resize the overlay image (optional, if needed)\n",
        "overlay_image = overlay_image.resize((100, 100))  # Adjust size as required\n",
        "\n",
        "# Paste the overlay image onto the base image at the upper-left corner\n",
        "base_image.paste(overlay_image, (0, 0), overlay_image)  # Use the third argument for transparency\n",
        "\n",
        "# Draw text on the overlay image area\n",
        "draw = ImageDraw.Draw(base_image)\n",
        "\n",
        "# Set the font (adjust path or use a default font)\n",
        "try:\n",
        "    font = ImageFont.truetype(\"arial.ttf\", 20)  # Adjust font size\n",
        "except IOError:\n",
        "    font = ImageFont.load_default()  # Fallback to default font\n",
        "\n",
        "# Add text on the upper-left overlay area\n",
        "text = \"Hello!\"\n",
        "text_position = (10, 10)  # Position text slightly away from the top-left corner\n",
        "text_color = (0,0,0)  # White color\n",
        "draw.text(text_position, text, fill=text_color, font=font)\n",
        "\n",
        "# Save the final image\n",
        "base_image.save(\"/content/drive/MyDrive/output_21jan/output_imagev1.jpg\")\n",
        "\n",
        "print(\"Image saved with overlay and text as output_image.jpg\")\n"
      ],
      "metadata": {
        "colab": {
          "base_uri": "https://localhost:8080/"
        },
        "id": "Tw6Fe3AQOY_G",
        "outputId": "502d7626-24b3-4c81-e163-f18b6634dbf7"
      },
      "execution_count": 12,
      "outputs": [
        {
          "output_type": "stream",
          "name": "stdout",
          "text": [
            "Image saved with overlay and text as output_image.jpg\n"
          ]
        }
      ]
    },
    {
      "cell_type": "code",
      "source": [
        "import cv2\n",
        "import numpy as np\n",
        "from PIL import Image, ImageDraw, ImageFont\n",
        "import torch\n",
        "\n",
        "# Normalize boxes to pixel coordinates\n",
        "def normalize_boxes(boxes, img_shape):\n",
        "    h, w = img_shape  # Unpack height and width\n",
        "    normalized_boxes = []\n",
        "    for box in boxes:\n",
        "        # Unpack normalized box\n",
        "        x_center, y_center, box_width, box_height = box.numpy()\n",
        "\n",
        "        # Convert to pixel coordinates\n",
        "        x_center *= w\n",
        "        y_center *= h\n",
        "        box_width *= w\n",
        "        box_height *= h\n",
        "\n",
        "        # Calculate top-left and bottom-right coordinates\n",
        "        x0 = x_center - (box_width / 2)\n",
        "        y0 = y_center - (box_height / 2)\n",
        "        x1 = x_center + (box_width / 2)\n",
        "        y1 = y_center + (box_height / 2)\n",
        "\n",
        "        # Append the pixel coordinates\n",
        "        normalized_boxes.append([x0, y0, x1, y1])\n",
        "\n",
        "    return np.array(normalized_boxes)\n",
        "\n",
        "# Place callout image at a specific position\n",
        "def place_callout(base_image, box, callout_images, text):\n",
        "    # Predefined positions for callouts\n",
        "    positions = [\n",
        "        \"Top-right\", \"Top-middle\", \"Top-left\",\n",
        "        \"Bottom-right\", \"Bottom-middle\", \"Bottom-left\"\n",
        "    ]\n",
        "    h, w, _ = base_image.shape\n",
        "    box_x0, box_y0, box_x1, box_y1 = box\n",
        "    box_center_x = int((box_x0 + box_x1) / 2)\n",
        "    box_center_y = int((box_y0 + box_y1) / 2)\n",
        "\n",
        "    # Define placement offsets for each position\n",
        "    offsets = [\n",
        "        (box_x1 + 10, box_y0 - 50),  # Top-right\n",
        "        (box_center_x - 50, box_y0 - 50),  # Top-middle\n",
        "        (box_x0 - 110, box_y0 - 50),  # Top-left\n",
        "        (box_x1 + 10, box_y1 + 10),  # Bottom-right\n",
        "        (box_center_x - 50, box_y1 + 10),  # Bottom-middle\n",
        "        (box_x0 - 110, box_y1 + 10),  # Bottom-left\n",
        "    ]\n",
        "\n",
        "    # Loop through predefined positions and place the callout image if valid\n",
        "    for pos, offset in zip(positions, offsets):\n",
        "        # Resize callout image to 150x150\n",
        "        callout_img = callout_images[pos]\n",
        "        callout_img = cv2.resize(callout_img, (150, 150))  # Resize to 150x150\n",
        "        x_offset, y_offset = offset\n",
        "        callout_h, callout_w, _ = callout_img.shape\n",
        "\n",
        "        # Ensure offsets are integers\n",
        "        x_offset = int(x_offset)\n",
        "        y_offset = int(y_offset)\n",
        "\n",
        "        # Check if the callout image fits within the base image boundaries\n",
        "        if x_offset + callout_w > w or y_offset + callout_h > h or x_offset < 0 or y_offset < 0:\n",
        "            continue  # Skip if callout is out of bounds\n",
        "\n",
        "        # Add text to the callout image\n",
        "        text_lines = text.split(\" \")\n",
        "        max_line_length = 15\n",
        "        resized_text = \"\\n\".join(\n",
        "            [\" \".join(text_lines[i:i + max_line_length]) for i in range(0, len(text_lines), max_line_length)]\n",
        "        )\n",
        "\n",
        "        # Convert callout image to RGBA for transparency handling\n",
        "        pil_callout = Image.fromarray(callout_img)\n",
        "        pil_callout = pil_callout.convert(\"RGBA\")\n",
        "\n",
        "        # Add text on the callout image\n",
        "        draw = ImageDraw.Draw(pil_callout)\n",
        "        font = ImageFont.load_default()  # No need for a font path\n",
        "\n",
        "        # Calculate text size\n",
        "        _, _, text_width, text_height = draw.textbbox((0, 0), resized_text, font=font)\n",
        "        draw.text((10, 10), resized_text, fill=\"black\", font=font)\n",
        "\n",
        "        # Convert back to RGB and overlay\n",
        "        pil_callout = pil_callout.convert(\"RGB\")\n",
        "        callout_img_with_text = np.array(pil_callout)\n",
        "\n",
        "        # Overlay callout on the base image\n",
        "        base_image[y_offset:y_offset + callout_h, x_offset:x_offset + callout_w] = callout_img_with_text\n",
        "        print(f\"Callout placed at: x_offset={x_offset}, y_offset={y_offset}\")\n",
        "        return base_image  # Exit after placing the first valid callout\n",
        "\n",
        "    return base_image  # Return original image if no placement is found\n",
        "\n",
        "# Main function to annotate the image\n",
        "def annotate_with_callouts(image_path, boxes, logits, callout_texts, callout_images, output_path):\n",
        "    # Open the image using PIL to get its dimensions\n",
        "    pil_image = Image.open(image_path)\n",
        "    w, h = pil_image.size  # Image width and height\n",
        "    base_image = cv2.cvtColor(np.array(pil_image), cv2.COLOR_RGB2BGR)\n",
        "\n",
        "    # Normalize boxes to pixel coordinates\n",
        "    normalized_boxes = normalize_boxes(boxes, (h, w))\n",
        "\n",
        "    # Get the index of the highest probability box\n",
        "    highest_prob_idx = torch.argmax(logits)\n",
        "\n",
        "    # Get the corresponding box and text\n",
        "    highest_prob_box = normalized_boxes[highest_prob_idx]\n",
        "    highest_prob_text = callout_texts[highest_prob_idx]\n",
        "\n",
        "    # Place the callout image for the highest probability box\n",
        "    base_image = place_callout(base_image, highest_prob_box, callout_images, highest_prob_text)\n",
        "\n",
        "    # Save the final annotated image\n",
        "    cv2.imwrite(output_path, base_image)\n",
        "    print(f\"Annotated image saved at {output_path}\")\n",
        "\n",
        "# Example Usage\n",
        "image_path = \"/content/drive/MyDrive/inputimgs/scene_3_normal.png\"\n",
        "output_path = \"/content/drive/MyDrive/output_21jan/scene_3_annoted_withcallout11.png\"\n",
        "\n",
        "callout_images = {\n",
        "    \"Top-right\": cv2.imread(\"/content/drive/MyDrive/callout_imgs/upperright.png\"),\n",
        "    \"Top-middle\": cv2.imread(\"/content/drive/MyDrive/callout_imgs/uppermiddle.png\"),\n",
        "    \"Top-left\": cv2.imread(\"/content/drive/MyDrive/callout_imgs/upperleft.png\"),\n",
        "    \"Bottom-right\": cv2.imread(\"/content/drive/MyDrive/callout_imgs/downright.png\"),\n",
        "    \"Bottom-middle\": cv2.imread(\"/content/drive/MyDrive/callout_imgs/downmiddle.png\"),\n",
        "    \"Bottom-left\": cv2.imread(\"/content/drive/MyDrive/callout_imgs/downleft.png\"),\n",
        "}\n",
        "\n",
        "boxes = torch.tensor([\n",
        "    [0.3980, 0.5451, 0.2629, 0.2611],\n",
        "    [0.5515, 0.4850, 0.1499, 0.1831],\n",
        "    [0.8208, 0.6568, 0.1583, 0.1798],\n",
        "    [0.5639, 0.8953, 0.1964, 0.1834]\n",
        "])\n",
        "logits = torch.tensor([0.7741, 0.6518, 0.6698, 0.4431])\n",
        "callout_texts = [\"Let's wait and watch\"] * len(boxes)\n",
        "\n",
        "annotate_with_callouts(image_path, boxes, logits, callout_texts, callout_images, output_path)\n"
      ],
      "metadata": {
        "colab": {
          "base_uri": "https://localhost:8080/"
        },
        "id": "dQ_NAI0HQDJl",
        "outputId": "d4c1f773-d745-464e-9d05-8ce6e61c4ce1"
      },
      "execution_count": 16,
      "outputs": [
        {
          "output_type": "stream",
          "name": "stdout",
          "text": [
            "Callout placed at: x_offset=552, y_offset=374\n",
            "Annotated image saved at /content/drive/MyDrive/output_21jan/scene_3_annoted_withcallout11.png\n"
          ]
        }
      ]
    },
    {
      "cell_type": "code",
      "source": [],
      "metadata": {
        "id": "yfnjmUgwRiY_"
      },
      "execution_count": null,
      "outputs": []
    }
  ]
}